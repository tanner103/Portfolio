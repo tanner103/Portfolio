{
 "cells": [
  {
   "cell_type": "code",
   "execution_count": 61,
   "metadata": {},
   "outputs": [],
   "source": [
    "import pandas as pd\n",
    "import numpy as np\n",
    "import matplotlib.pyplot as plt\n",
    "import seaborn as sns\n",
    "\n",
    "%matplotlib inline\n",
    "\n",
    "from sklearn.preprocessing import StandardScaler\n",
    "from sklearn.ensemble import RandomForestRegressor\n",
    "from sklearn.svm import SVR\n",
    "from sklearn.linear_model import LinearRegression\n",
    "from sklearn.model_selection import train_test_split"
   ]
  },
  {
   "cell_type": "code",
   "execution_count": 62,
   "metadata": {},
   "outputs": [
    {
     "data": {
      "text/html": [
       "<div>\n",
       "<style scoped>\n",
       "    .dataframe tbody tr th:only-of-type {\n",
       "        vertical-align: middle;\n",
       "    }\n",
       "\n",
       "    .dataframe tbody tr th {\n",
       "        vertical-align: top;\n",
       "    }\n",
       "\n",
       "    .dataframe thead th {\n",
       "        text-align: right;\n",
       "    }\n",
       "</style>\n",
       "<table border=\"1\" class=\"dataframe\">\n",
       "  <thead>\n",
       "    <tr style=\"text-align: right;\">\n",
       "      <th></th>\n",
       "      <th>PLAYER</th>\n",
       "      <th>TEAM</th>\n",
       "      <th>AGE</th>\n",
       "      <th>GP</th>\n",
       "      <th>W</th>\n",
       "      <th>L</th>\n",
       "      <th>MIN</th>\n",
       "      <th>PTS</th>\n",
       "      <th>FGM</th>\n",
       "      <th>FGA</th>\n",
       "      <th>...</th>\n",
       "      <th>AST</th>\n",
       "      <th>TOV</th>\n",
       "      <th>STL</th>\n",
       "      <th>BLK</th>\n",
       "      <th>PF</th>\n",
       "      <th>FP</th>\n",
       "      <th>DD2</th>\n",
       "      <th>TD3</th>\n",
       "      <th>+/-</th>\n",
       "      <th>All-Star</th>\n",
       "    </tr>\n",
       "  </thead>\n",
       "  <tbody>\n",
       "    <tr>\n",
       "      <th>0</th>\n",
       "      <td>AJ Hammons_2017</td>\n",
       "      <td>DAL</td>\n",
       "      <td>24.0</td>\n",
       "      <td>22.0</td>\n",
       "      <td>4.0</td>\n",
       "      <td>18.0</td>\n",
       "      <td>163.0</td>\n",
       "      <td>48.0</td>\n",
       "      <td>17.0</td>\n",
       "      <td>42.0</td>\n",
       "      <td>...</td>\n",
       "      <td>4.0</td>\n",
       "      <td>10.0</td>\n",
       "      <td>1.0</td>\n",
       "      <td>13.0</td>\n",
       "      <td>21.0</td>\n",
       "      <td>129.2</td>\n",
       "      <td>0.0</td>\n",
       "      <td>0.0</td>\n",
       "      <td>-5.0</td>\n",
       "      <td>0.0</td>\n",
       "    </tr>\n",
       "    <tr>\n",
       "      <th>1</th>\n",
       "      <td>Aaron Brooks_2017</td>\n",
       "      <td>IND</td>\n",
       "      <td>32.0</td>\n",
       "      <td>65.0</td>\n",
       "      <td>36.0</td>\n",
       "      <td>29.0</td>\n",
       "      <td>894.0</td>\n",
       "      <td>322.0</td>\n",
       "      <td>121.0</td>\n",
       "      <td>300.0</td>\n",
       "      <td>...</td>\n",
       "      <td>125.0</td>\n",
       "      <td>66.0</td>\n",
       "      <td>25.0</td>\n",
       "      <td>9.0</td>\n",
       "      <td>93.0</td>\n",
       "      <td>628.3</td>\n",
       "      <td>0.0</td>\n",
       "      <td>0.0</td>\n",
       "      <td>-32.0</td>\n",
       "      <td>0.0</td>\n",
       "    </tr>\n",
       "    <tr>\n",
       "      <th>2</th>\n",
       "      <td>Aaron Gordon_2017</td>\n",
       "      <td>ORL</td>\n",
       "      <td>21.0</td>\n",
       "      <td>80.0</td>\n",
       "      <td>29.0</td>\n",
       "      <td>51.0</td>\n",
       "      <td>2298.0</td>\n",
       "      <td>1019.0</td>\n",
       "      <td>393.0</td>\n",
       "      <td>865.0</td>\n",
       "      <td>...</td>\n",
       "      <td>150.0</td>\n",
       "      <td>89.0</td>\n",
       "      <td>65.0</td>\n",
       "      <td>40.0</td>\n",
       "      <td>172.0</td>\n",
       "      <td>1956.0</td>\n",
       "      <td>7.0</td>\n",
       "      <td>0.0</td>\n",
       "      <td>-163.0</td>\n",
       "      <td>0.0</td>\n",
       "    </tr>\n",
       "    <tr>\n",
       "      <th>3</th>\n",
       "      <td>Aaron Harrison_2017</td>\n",
       "      <td>CHA</td>\n",
       "      <td>22.0</td>\n",
       "      <td>5.0</td>\n",
       "      <td>2.0</td>\n",
       "      <td>3.0</td>\n",
       "      <td>17.0</td>\n",
       "      <td>1.0</td>\n",
       "      <td>0.0</td>\n",
       "      <td>4.0</td>\n",
       "      <td>...</td>\n",
       "      <td>3.0</td>\n",
       "      <td>0.0</td>\n",
       "      <td>0.0</td>\n",
       "      <td>0.0</td>\n",
       "      <td>2.0</td>\n",
       "      <td>9.1</td>\n",
       "      <td>0.0</td>\n",
       "      <td>0.0</td>\n",
       "      <td>-5.0</td>\n",
       "      <td>0.0</td>\n",
       "    </tr>\n",
       "    <tr>\n",
       "      <th>4</th>\n",
       "      <td>Adreian Payne_2017</td>\n",
       "      <td>MIN</td>\n",
       "      <td>26.0</td>\n",
       "      <td>18.0</td>\n",
       "      <td>5.0</td>\n",
       "      <td>13.0</td>\n",
       "      <td>135.0</td>\n",
       "      <td>63.0</td>\n",
       "      <td>23.0</td>\n",
       "      <td>54.0</td>\n",
       "      <td>...</td>\n",
       "      <td>7.0</td>\n",
       "      <td>8.0</td>\n",
       "      <td>8.0</td>\n",
       "      <td>7.0</td>\n",
       "      <td>32.0</td>\n",
       "      <td>150.1</td>\n",
       "      <td>0.0</td>\n",
       "      <td>0.0</td>\n",
       "      <td>8.0</td>\n",
       "      <td>0.0</td>\n",
       "    </tr>\n",
       "  </tbody>\n",
       "</table>\n",
       "<p>5 rows × 30 columns</p>\n",
       "</div>"
      ],
      "text/plain": [
       "                PLAYER TEAM   AGE    GP     W     L     MIN     PTS    FGM  \\\n",
       "0      AJ Hammons_2017  DAL  24.0  22.0   4.0  18.0   163.0    48.0   17.0   \n",
       "1    Aaron Brooks_2017  IND  32.0  65.0  36.0  29.0   894.0   322.0  121.0   \n",
       "2    Aaron Gordon_2017  ORL  21.0  80.0  29.0  51.0  2298.0  1019.0  393.0   \n",
       "3  Aaron Harrison_2017  CHA  22.0   5.0   2.0   3.0    17.0     1.0    0.0   \n",
       "4   Adreian Payne_2017  MIN  26.0  18.0   5.0  13.0   135.0    63.0   23.0   \n",
       "\n",
       "     FGA  ...    AST   TOV   STL   BLK     PF      FP  DD2  TD3    +/-  \\\n",
       "0   42.0  ...    4.0  10.0   1.0  13.0   21.0   129.2  0.0  0.0   -5.0   \n",
       "1  300.0  ...  125.0  66.0  25.0   9.0   93.0   628.3  0.0  0.0  -32.0   \n",
       "2  865.0  ...  150.0  89.0  65.0  40.0  172.0  1956.0  7.0  0.0 -163.0   \n",
       "3    4.0  ...    3.0   0.0   0.0   0.0    2.0     9.1  0.0  0.0   -5.0   \n",
       "4   54.0  ...    7.0   8.0   8.0   7.0   32.0   150.1  0.0  0.0    8.0   \n",
       "\n",
       "   All-Star  \n",
       "0       0.0  \n",
       "1       0.0  \n",
       "2       0.0  \n",
       "3       0.0  \n",
       "4       0.0  \n",
       "\n",
       "[5 rows x 30 columns]"
      ]
     },
     "execution_count": 62,
     "metadata": {},
     "output_type": "execute_result"
    }
   ],
   "source": [
    "df = pd.read_csv('./data/df.csv', index_col=None, header=0)\n",
    "df.head()"
   ]
  },
  {
   "cell_type": "code",
   "execution_count": 63,
   "metadata": {},
   "outputs": [],
   "source": [
    "df = df.dropna()"
   ]
  },
  {
   "cell_type": "code",
   "execution_count": 64,
   "metadata": {},
   "outputs": [
    {
     "data": {
      "text/plain": [
       "(8944, 30)"
      ]
     },
     "execution_count": 64,
     "metadata": {},
     "output_type": "execute_result"
    }
   ],
   "source": [
    "df.shape"
   ]
  },
  {
   "cell_type": "markdown",
   "metadata": {},
   "source": [
    "$$Data Dictionary$$\n",
    "\n",
    "| Abbreviation | Definition |\n",
    "|---|---|\n",
    "|GP |Games Played \n",
    "|W |Wins \n",
    "|L |Losses \n",
    "|MIN |Minutes Played \n",
    "|FGM |Field Goals Made \n",
    "|FGA |Field Goals Attempted \n",
    "|FG% |Field Goal Percentage \n",
    "|3PM |3 Point Field Goals Made \n",
    "|3PA |3 Point Field Goals Attempted \n",
    "|3P% |3 Point Field Goals Percentage \n",
    "|FTM |Free Throws Made \n",
    "|FTA |Free Throws Attempted \n",
    "|FT% |Free Throw Percentage \n",
    "|OREB |Offensive Rebounds \n",
    "|DREB |Defensive Rebounds \n",
    "|REB |Rebounds AST Assists \n",
    "|TOV |Turnovers \n",
    "|STL |Steals \n",
    "|BLK |Blocks \n",
    "|PF |Personal Fouls \n",
    "|FP |Fantasy Points \n",
    "|DD2 |Double doubles \n",
    "|TD3 |Triple doubles \n",
    "|PTS |Points \n",
    "|+/- |Plus Minus Ratio"
   ]
  },
  {
   "cell_type": "code",
   "execution_count": 65,
   "metadata": {},
   "outputs": [],
   "source": [
    "X = df.drop(['FTA','PLAYER','TEAM','FTM'], axis = 1)\n",
    "y = df['FTA']"
   ]
  },
  {
   "cell_type": "code",
   "execution_count": 66,
   "metadata": {},
   "outputs": [],
   "source": [
    "X_train, X_test, y_train, y_test = train_test_split(X, y, test_size=0.25, random_state=42, stratify=X['All-Star'])"
   ]
  },
  {
   "cell_type": "code",
   "execution_count": 67,
   "metadata": {},
   "outputs": [],
   "source": [
    "#Decided not to scale so my Coef are more interpretable\n",
    "#sc =StandardScaler()\n",
    "#X_train_sc = sc.fit_transform(X_train)\n",
    "#X_test_sc = sc.transform(X_test)"
   ]
  },
  {
   "cell_type": "code",
   "execution_count": 69,
   "metadata": {},
   "outputs": [
    {
     "name": "stdout",
     "output_type": "stream",
     "text": [
      "0.9869212252229583\n",
      "0.9833559928650156\n"
     ]
    },
    {
     "data": {
      "text/plain": [
       "[('AGE', -0.19),\n",
       " ('GP', 0.06),\n",
       " ('W', 0.02),\n",
       " ('L', 0.04),\n",
       " ('MIN', 0.0),\n",
       " ('PTS', 1.09),\n",
       " ('FGM', -2.18),\n",
       " ('FGA', -0.07),\n",
       " ('FG%', 0.08),\n",
       " ('3PM', -1.61),\n",
       " ('3PA', 0.16),\n",
       " ('3P%', 0.0),\n",
       " ('FT%', -0.25),\n",
       " ('OREB', 0.03),\n",
       " ('DREB', -0.06),\n",
       " ('REB', -0.02),\n",
       " ('AST', -0.15),\n",
       " ('TOV', 0.28),\n",
       " ('STL', -0.08),\n",
       " ('BLK', -0.09),\n",
       " ('PF', -0.04),\n",
       " ('FP', 0.06),\n",
       " ('DD2', 0.32),\n",
       " ('TD3', 0.1),\n",
       " ('+/-', 0.0),\n",
       " ('All-Star', 0.56)]"
      ]
     },
     "execution_count": 69,
     "metadata": {},
     "output_type": "execute_result"
    }
   ],
   "source": [
    "lr = LinearRegression()\n",
    "lr.fit(X_train,y_train)\n",
    "preds = lr.predict(X_test)\n",
    "print(lr.score(X_train,y_train))\n",
    "print(lr.score(X_test,y_test))\n",
    "list(zip(X.columns, np.round(lr.coef_,2)))"
   ]
  },
  {
   "cell_type": "code",
   "execution_count": 70,
   "metadata": {},
   "outputs": [
    {
     "data": {
      "image/png": "[encoded data removed]",
      "text/plain": [
       "<Figure size 432x288 with 1 Axes>"
      ]
     },
     "metadata": {
      "needs_background": "light"
     },
     "output_type": "display_data"
    }
   ],
   "source": [
    "sns.regplot(preds,y_test);"
   ]
  },
  {
   "cell_type": "code",
   "execution_count": 77,
   "metadata": {},
   "outputs": [],
   "source": [
    "X_train, X_test, y_train, y_test = train_test_split(X, y, test_size=0.25, random_state=42, stratify=X['All-Star'])"
   ]
  },
  {
   "cell_type": "code",
   "execution_count": 78,
   "metadata": {},
   "outputs": [
    {
     "name": "stdout",
     "output_type": "stream",
     "text": [
      "Train Score:0.9122997366369049\n",
      "Test Score:0.8855446890689653\n"
     ]
    }
   ],
   "source": [
    "sc =StandardScaler()\n",
    "X_train_sc = sc.fit_transform(X_train)\n",
    "X_test_sc = sc.transform(X_test)\n",
    "rf = RandomForestRegressor(max_depth=5)\n",
    "rf.fit(X_train_sc,y_train)\n",
    "print(f'Train Score:{rf.score(X_train_sc,y_train)}')\n",
    "print(f'Test Score:{rf.score(X_test_sc,y_test)}')"
   ]
  },
  {
   "cell_type": "code",
   "execution_count": 73,
   "metadata": {},
   "outputs": [],
   "source": [
    "X_train, X_test, y_train, y_test = train_test_split(X, y, test_size=0.25, random_state=42, stratify=X['All-Star'])"
   ]
  },
  {
   "cell_type": "code",
   "execution_count": 74,
   "metadata": {},
   "outputs": [
    {
     "name": "stdout",
     "output_type": "stream",
     "text": [
      "Train Score:0.6420110272618877\n",
      "Test Score:0.6468794350823956\n"
     ]
    }
   ],
   "source": [
    "sc =StandardScaler()\n",
    "X_train_sc = sc.fit_transform(X_train)\n",
    "X_test_sc = sc.transform(X_test)\n",
    "svr = SVR()\n",
    "svr.fit(X_train_sc,y_train)\n",
    "print(f'Train Score:{svr.score(X_train_sc,y_train)}')\n",
    "print(f'Test Score:{svr.score(X_test_sc,y_test)}')"
   ]
  },
  {
   "cell_type": "code",
   "execution_count": null,
   "metadata": {},
   "outputs": [],
   "source": []
  }
 ],
 "metadata": {
  "kernelspec": {
   "display_name": "Python 3",
   "language": "python",
   "name": "python3"
  },
  "language_info": {
   "codemirror_mode": {
    "name": "ipython",
    "version": 3
   },
   "file_extension": ".py",
   "mimetype": "text/x-python",
   "name": "python",
   "nbconvert_exporter": "python",
   "pygments_lexer": "ipython3",
   "version": "3.7.6"
  }
 },
 "nbformat": 4,
 "nbformat_minor": 4
}
