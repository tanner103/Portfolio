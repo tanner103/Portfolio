{
 "cells": [
  {
   "cell_type": "code",
   "execution_count": 3,
   "metadata": {},
   "outputs": [],
   "source": [
    "import pandas as pd\n",
    "import requests\n",
    "from selenium import webdriver\n",
    "from selenium.webdriver.common.keys import Keys\n",
    "from bs4 import BeautifulSoup as soup \n",
    "import time\n",
    "\n",
    "pd.set_option('display.max_columns', None)"
   ]
  },
  {
   "cell_type": "code",
   "execution_count": 457,
   "metadata": {},
   "outputs": [
    {
     "data": {
      "text/plain": [
       "200"
      ]
     },
     "execution_count": 457,
     "metadata": {},
     "output_type": "execute_result"
    }
   ],
   "source": [
    "url = 'https://stats.nba.com/players/traditional/?PerMode=Totals&sort=PLAYER_NAME&dir=-1&Season=2009-10&SeasonType=Regular%20Season'\n",
    "res = requests.get(url)\n",
    "res.status_code"
   ]
  },
  {
   "cell_type": "code",
   "execution_count": 458,
   "metadata": {},
   "outputs": [],
   "source": [
    "d = webdriver.Chrome(executable_path='./chromedriver/chromedriver')\n",
    "d.get(url)\n",
    "time.sleep(2)\n",
    "s = soup(d.page_source, \"html.parser\").find(\"table\")\n",
    "headers, [_, *data] = [i.text for i in s.find_all(\"th\")], [[i.text for i in b.find_all(\"td\")] for b in s.find_all(\"tr\")]\n",
    "final_data = [i for i in data if len(i) > 1]\n",
    "count=0\n",
    "while count <= 8:\n",
    "    next_ = d.find_element_by_class_name(\"stats-table-pagination__next\")\n",
    "    next_.send_keys(Keys.RETURN)\n",
    "    time.sleep(2)\n",
    "    s = soup(d.page_source, \"html.parser\").find(\"table\")\n",
    "    headers, [_, *data] = [i.text for i in s.find_all(\"th\")], [[i.text for i in b.find_all(\"td\")] for b in s.find_all(\"tr\")]\n",
    "    final_data.extend([i for i in data if len(i) > 1])\n",
    "    count+=1\n",
    "d.close()"
   ]
  },
  {
   "cell_type": "code",
   "execution_count": 441,
   "metadata": {},
   "outputs": [],
   "source": [
    "titles = [i.text for i in s.find_all('th')]"
   ]
  },
  {
   "cell_type": "code",
   "execution_count": 442,
   "metadata": {},
   "outputs": [
    {
     "data": {
      "text/plain": [
       "['',\n",
       " 'PLAYER',\n",
       " 'TEAM',\n",
       " 'AGE',\n",
       " 'GP',\n",
       " 'W',\n",
       " 'L',\n",
       " 'MIN',\n",
       " 'PTS',\n",
       " 'FGM',\n",
       " 'FGA',\n",
       " 'FG%',\n",
       " '3PM',\n",
       " '3PA',\n",
       " '3P%',\n",
       " 'FTM',\n",
       " 'FTA',\n",
       " 'FT%',\n",
       " 'OREB',\n",
       " 'DREB',\n",
       " 'REB',\n",
       " 'AST',\n",
       " 'TOV',\n",
       " 'STL',\n",
       " 'BLK',\n",
       " 'PF',\n",
       " '\\n            FP\\n          ',\n",
       " 'DD2',\n",
       " 'TD3',\n",
       " '+/-',\n",
       " 'GP RANK',\n",
       " 'W RANK',\n",
       " 'L RANK',\n",
       " 'MIN RANK',\n",
       " 'PTS RANK',\n",
       " 'FGM RANK',\n",
       " 'FGA RANK',\n",
       " 'FG% RANK',\n",
       " '3PM RANK',\n",
       " '3PA RANK',\n",
       " '3P% RANK',\n",
       " 'FTM RANK',\n",
       " 'FTA RANK',\n",
       " 'FT% RANK',\n",
       " 'OREB RANK',\n",
       " 'DREB RANK',\n",
       " 'REB RANK',\n",
       " 'AST RANK',\n",
       " 'TOV RANK',\n",
       " 'STL RANK',\n",
       " 'BLK RANK',\n",
       " 'PF RANK',\n",
       " 'FP RANK',\n",
       " 'DD2 RANK',\n",
       " 'TD3 RANK',\n",
       " '+/- RANK']"
      ]
     },
     "execution_count": 442,
     "metadata": {},
     "output_type": "execute_result"
    }
   ],
   "source": [
    "titles"
   ]
  },
  {
   "cell_type": "code",
   "execution_count": 443,
   "metadata": {},
   "outputs": [],
   "source": [
    "titles = titles[:-26]"
   ]
  },
  {
   "cell_type": "code",
   "execution_count": 444,
   "metadata": {},
   "outputs": [],
   "source": [
    "pd.set_option('display.max_columns', None)\n",
    "pd.set_option('display.max_rows', 10)"
   ]
  },
  {
   "cell_type": "code",
   "execution_count": 445,
   "metadata": {},
   "outputs": [],
   "source": [
    "df = pd.DataFrame(final_data,columns=titles)"
   ]
  },
  {
   "cell_type": "code",
   "execution_count": 446,
   "metadata": {},
   "outputs": [
    {
     "data": {
      "text/plain": [
       "(484, 30)"
      ]
     },
     "execution_count": 446,
     "metadata": {},
     "output_type": "execute_result"
    }
   ],
   "source": [
    "df.shape"
   ]
  },
  {
   "cell_type": "code",
   "execution_count": 455,
   "metadata": {},
   "outputs": [
    {
     "data": {
      "text/html": [
       "<div>\n",
       "<style scoped>\n",
       "    .dataframe tbody tr th:only-of-type {\n",
       "        vertical-align: middle;\n",
       "    }\n",
       "\n",
       "    .dataframe tbody tr th {\n",
       "        vertical-align: top;\n",
       "    }\n",
       "\n",
       "    .dataframe thead th {\n",
       "        text-align: right;\n",
       "    }\n",
       "</style>\n",
       "<table border=\"1\" class=\"dataframe\">\n",
       "  <thead>\n",
       "    <tr style=\"text-align: right;\">\n",
       "      <th></th>\n",
       "      <th></th>\n",
       "      <th>PLAYER</th>\n",
       "      <th>TEAM</th>\n",
       "      <th>AGE</th>\n",
       "      <th>GP</th>\n",
       "      <th>W</th>\n",
       "      <th>L</th>\n",
       "      <th>MIN</th>\n",
       "      <th>PTS</th>\n",
       "      <th>FGM</th>\n",
       "      <th>FGA</th>\n",
       "      <th>FG%</th>\n",
       "      <th>3PM</th>\n",
       "      <th>3PA</th>\n",
       "      <th>3P%</th>\n",
       "      <th>FTM</th>\n",
       "      <th>FTA</th>\n",
       "      <th>FT%</th>\n",
       "      <th>OREB</th>\n",
       "      <th>DREB</th>\n",
       "      <th>REB</th>\n",
       "      <th>AST</th>\n",
       "      <th>TOV</th>\n",
       "      <th>STL</th>\n",
       "      <th>BLK</th>\n",
       "      <th>PF</th>\n",
       "      <th>FP</th>\n",
       "      <th>DD2</th>\n",
       "      <th>TD3</th>\n",
       "      <th>+/-</th>\n",
       "    </tr>\n",
       "  </thead>\n",
       "  <tbody>\n",
       "  </tbody>\n",
       "</table>\n",
       "</div>"
      ],
      "text/plain": [
       "Empty DataFrame\n",
       "Columns: [, PLAYER, TEAM, AGE, GP, W, L, MIN, PTS, FGM, FGA, FG%, 3PM, 3PA, 3P%, FTM, FTA, FT%, OREB, DREB, REB, AST, TOV, STL, BLK, PF, FP, DD2, TD3, +/-]\n",
       "Index: []"
      ]
     },
     "execution_count": 455,
     "metadata": {},
     "output_type": "execute_result"
    }
   ],
   "source": [
    "df[df['PLAYER'] == \"Blake Griffin\"]"
   ]
  },
  {
   "cell_type": "code",
   "execution_count": 448,
   "metadata": {},
   "outputs": [
    {
     "data": {
      "text/plain": [
       "Index(['', 'PLAYER', 'TEAM', 'AGE', 'GP', 'W', 'L', 'MIN', 'PTS', 'FGM', 'FGA',\n",
       "       'FG%', '3PM', '3PA', '3P%', 'FTM', 'FTA', 'FT%', 'OREB', 'DREB', 'REB',\n",
       "       'AST', 'TOV', 'STL', 'BLK', 'PF', '\\n            FP\\n          ', 'DD2',\n",
       "       'TD3', '+/-'],\n",
       "      dtype='object')"
      ]
     },
     "execution_count": 448,
     "metadata": {},
     "output_type": "execute_result"
    }
   ],
   "source": [
    "df.columns"
   ]
  },
  {
   "cell_type": "code",
   "execution_count": 449,
   "metadata": {},
   "outputs": [],
   "source": [
    "df.columns = ['', 'PLAYER', 'TEAM', 'AGE', 'GP', 'W', 'L', 'MIN', 'PTS', 'FGM', 'FGA',\n",
    "       'FG%', '3PM', '3PA', '3P%', 'FTM', 'FTA', 'FT%', 'OREB', 'DREB', 'REB',\n",
    "       'AST', 'TOV', 'STL', 'BLK', 'PF', 'FP', 'DD2',\n",
    "       'TD3', '+/-']"
   ]
  },
  {
   "cell_type": "code",
   "execution_count": 450,
   "metadata": {},
   "outputs": [],
   "source": [
    "df['PLAYER'] = [i[1:-1] for i in df['PLAYER']]\n",
    "df['TEAM'] = [i[1:-1] for i in df['TEAM']]\n",
    "df['FGM'] = [i[1:-1] for i in df['FGM']]\n",
    "df['FGA'] = [i[1:-1] for i in df['FGA']]\n",
    "df['3PM'] = [i[1:-1] for i in df['3PM']]\n",
    "df['3PA'] = [i[1:-1] for i in df['3PA']]\n",
    "df['OREB'] = [i[1:-1] for i in df['OREB']]\n",
    "df['DREB'] = [i[1:-1] for i in df['DREB']]\n",
    "df['REB'] = [i[1:-1] for i in df['REB']]\n",
    "df['AST'] = [i[1:-1] for i in df['AST']]\n",
    "df['TOV'] = [i[1:-1] for i in df['TOV']]\n",
    "df['STL'] = [i[1:-1] for i in df['STL']]\n",
    "df['BLK'] = [i[1:-1] for i in df['BLK']]\n",
    "df['PF'] = [i[1:-1] for i in df['PF']]\n",
    "df['FP'] = [i[1:-11] for i in df['FP']]\n",
    "df['PLAYER'] = [(i+'_2010') for i in df['PLAYER']]"
   ]
  },
  {
   "cell_type": "code",
   "execution_count": 451,
   "metadata": {},
   "outputs": [],
   "source": [
    "df = df.drop_duplicates()"
   ]
  },
  {
   "cell_type": "code",
   "execution_count": 452,
   "metadata": {},
   "outputs": [
    {
     "data": {
      "text/html": [
       "<div>\n",
       "<style scoped>\n",
       "    .dataframe tbody tr th:only-of-type {\n",
       "        vertical-align: middle;\n",
       "    }\n",
       "\n",
       "    .dataframe tbody tr th {\n",
       "        vertical-align: top;\n",
       "    }\n",
       "\n",
       "    .dataframe thead th {\n",
       "        text-align: right;\n",
       "    }\n",
       "</style>\n",
       "<table border=\"1\" class=\"dataframe\">\n",
       "  <thead>\n",
       "    <tr style=\"text-align: right;\">\n",
       "      <th></th>\n",
       "      <th></th>\n",
       "      <th>PLAYER</th>\n",
       "      <th>TEAM</th>\n",
       "      <th>AGE</th>\n",
       "      <th>GP</th>\n",
       "      <th>W</th>\n",
       "      <th>L</th>\n",
       "      <th>MIN</th>\n",
       "      <th>PTS</th>\n",
       "      <th>FGM</th>\n",
       "      <th>FGA</th>\n",
       "      <th>FG%</th>\n",
       "      <th>3PM</th>\n",
       "      <th>3PA</th>\n",
       "      <th>3P%</th>\n",
       "      <th>FTM</th>\n",
       "      <th>FTA</th>\n",
       "      <th>FT%</th>\n",
       "      <th>OREB</th>\n",
       "      <th>DREB</th>\n",
       "      <th>REB</th>\n",
       "      <th>AST</th>\n",
       "      <th>TOV</th>\n",
       "      <th>STL</th>\n",
       "      <th>BLK</th>\n",
       "      <th>PF</th>\n",
       "      <th>FP</th>\n",
       "      <th>DD2</th>\n",
       "      <th>TD3</th>\n",
       "      <th>+/-</th>\n",
       "    </tr>\n",
       "  </thead>\n",
       "  <tbody>\n",
       "    <tr>\n",
       "      <th>0</th>\n",
       "      <td></td>\n",
       "      <td>AJ Price_2010</td>\n",
       "      <td>IND</td>\n",
       "      <td>23</td>\n",
       "      <td>56</td>\n",
       "      <td>23</td>\n",
       "      <td>33</td>\n",
       "      <td>865</td>\n",
       "      <td>410</td>\n",
       "      <td>145</td>\n",
       "      <td>354</td>\n",
       "      <td>41.0</td>\n",
       "      <td>60</td>\n",
       "      <td>174</td>\n",
       "      <td>34.5</td>\n",
       "      <td>60</td>\n",
       "      <td>75</td>\n",
       "      <td>80.0</td>\n",
       "      <td>12</td>\n",
       "      <td>76</td>\n",
       "      <td>88</td>\n",
       "      <td>106</td>\n",
       "      <td>59</td>\n",
       "      <td>35</td>\n",
       "      <td>3</td>\n",
       "      <td>53</td>\n",
       "      <td>729.6</td>\n",
       "      <td>0</td>\n",
       "      <td>0</td>\n",
       "      <td>49</td>\n",
       "    </tr>\n",
       "    <tr>\n",
       "      <th>1</th>\n",
       "      <td></td>\n",
       "      <td>Aaron Brooks_2010</td>\n",
       "      <td>HOU</td>\n",
       "      <td>25</td>\n",
       "      <td>82</td>\n",
       "      <td>42</td>\n",
       "      <td>40</td>\n",
       "      <td>2919</td>\n",
       "      <td>1604</td>\n",
       "      <td>575</td>\n",
       "      <td>1331</td>\n",
       "      <td>43.2</td>\n",
       "      <td>209</td>\n",
       "      <td>525</td>\n",
       "      <td>39.8</td>\n",
       "      <td>245</td>\n",
       "      <td>298</td>\n",
       "      <td>82.2</td>\n",
       "      <td>54</td>\n",
       "      <td>161</td>\n",
       "      <td>215</td>\n",
       "      <td>434</td>\n",
       "      <td>232</td>\n",
       "      <td>69</td>\n",
       "      <td>14</td>\n",
       "      <td>199</td>\n",
       "      <td>2530.0</td>\n",
       "      <td>6</td>\n",
       "      <td>0</td>\n",
       "      <td>-26</td>\n",
       "    </tr>\n",
       "    <tr>\n",
       "      <th>2</th>\n",
       "      <td></td>\n",
       "      <td>Aaron Gray_2010</td>\n",
       "      <td>NOH</td>\n",
       "      <td>25</td>\n",
       "      <td>32</td>\n",
       "      <td>11</td>\n",
       "      <td>21</td>\n",
       "      <td>311</td>\n",
       "      <td>104</td>\n",
       "      <td>42</td>\n",
       "      <td>82</td>\n",
       "      <td>51.2</td>\n",
       "      <td>0</td>\n",
       "      <td>0</td>\n",
       "      <td>0.0</td>\n",
       "      <td>20</td>\n",
       "      <td>28</td>\n",
       "      <td>71.4</td>\n",
       "      <td>45</td>\n",
       "      <td>61</td>\n",
       "      <td>106</td>\n",
       "      <td>22</td>\n",
       "      <td>18</td>\n",
       "      <td>9</td>\n",
       "      <td>11</td>\n",
       "      <td>54</td>\n",
       "      <td>306.2</td>\n",
       "      <td>0</td>\n",
       "      <td>0</td>\n",
       "      <td>-13</td>\n",
       "    </tr>\n",
       "    <tr>\n",
       "      <th>3</th>\n",
       "      <td></td>\n",
       "      <td>Acie Law_2010</td>\n",
       "      <td>CHI</td>\n",
       "      <td>25</td>\n",
       "      <td>26</td>\n",
       "      <td>11</td>\n",
       "      <td>15</td>\n",
       "      <td>234</td>\n",
       "      <td>113</td>\n",
       "      <td>35</td>\n",
       "      <td>75</td>\n",
       "      <td>46.7</td>\n",
       "      <td>5</td>\n",
       "      <td>16</td>\n",
       "      <td>31.3</td>\n",
       "      <td>38</td>\n",
       "      <td>49</td>\n",
       "      <td>77.6</td>\n",
       "      <td>3</td>\n",
       "      <td>14</td>\n",
       "      <td>17</td>\n",
       "      <td>26</td>\n",
       "      <td>17</td>\n",
       "      <td>11</td>\n",
       "      <td>1</td>\n",
       "      <td>16</td>\n",
       "      <td>191.4</td>\n",
       "      <td>0</td>\n",
       "      <td>0</td>\n",
       "      <td>20</td>\n",
       "    </tr>\n",
       "    <tr>\n",
       "      <th>4</th>\n",
       "      <td></td>\n",
       "      <td>Adam Morrison_2010</td>\n",
       "      <td>LAL</td>\n",
       "      <td>25</td>\n",
       "      <td>31</td>\n",
       "      <td>23</td>\n",
       "      <td>8</td>\n",
       "      <td>241</td>\n",
       "      <td>74</td>\n",
       "      <td>32</td>\n",
       "      <td>85</td>\n",
       "      <td>37.6</td>\n",
       "      <td>5</td>\n",
       "      <td>21</td>\n",
       "      <td>23.8</td>\n",
       "      <td>5</td>\n",
       "      <td>8</td>\n",
       "      <td>62.5</td>\n",
       "      <td>10</td>\n",
       "      <td>22</td>\n",
       "      <td>32</td>\n",
       "      <td>18</td>\n",
       "      <td>10</td>\n",
       "      <td>3</td>\n",
       "      <td>2</td>\n",
       "      <td>17</td>\n",
       "      <td>144.4</td>\n",
       "      <td>0</td>\n",
       "      <td>0</td>\n",
       "      <td>-38</td>\n",
       "    </tr>\n",
       "  </tbody>\n",
       "</table>\n",
       "</div>"
      ],
      "text/plain": [
       "                 PLAYER TEAM AGE  GP   W   L   MIN   PTS              FGM  \\\n",
       "0         AJ Price_2010  IND  23  56  23  33   865   410              145   \n",
       "1     Aaron Brooks_2010  HOU  25  82  42  40  2919  1604              575   \n",
       "2       Aaron Gray_2010  NOH  25  32  11  21   311   104               42   \n",
       "3         Acie Law_2010  CHI  25  26  11  15   234   113               35   \n",
       "4    Adam Morrison_2010  LAL  25  31  23   8   241    74               32   \n",
       "\n",
       "                FGA   FG%              3PM              3PA   3P%  FTM  FTA  \\\n",
       "0               354  41.0               60              174  34.5   60   75   \n",
       "1              1331  43.2              209              525  39.8  245  298   \n",
       "2                82  51.2                0                0   0.0   20   28   \n",
       "3                75  46.7                5               16  31.3   38   49   \n",
       "4                85  37.6                5               21  23.8    5    8   \n",
       "\n",
       "    FT%            OREB             DREB              REB              AST  \\\n",
       "0  80.0              12               76               88              106   \n",
       "1  82.2              54              161              215              434   \n",
       "2  71.4              45               61              106               22   \n",
       "3  77.6               3               14               17               26   \n",
       "4  62.5              10               22               32               18   \n",
       "\n",
       "               TOV             STL             BLK               PF  \\\n",
       "0               59              35               3               53   \n",
       "1              232              69              14              199   \n",
       "2               18               9              11               54   \n",
       "3               17              11               1               16   \n",
       "4               10               3               2               17   \n",
       "\n",
       "                   FP DD2 TD3  +/-  \n",
       "0               729.6   0   0   49  \n",
       "1              2530.0   6   0  -26  \n",
       "2               306.2   0   0  -13  \n",
       "3               191.4   0   0   20  \n",
       "4               144.4   0   0  -38  "
      ]
     },
     "execution_count": 452,
     "metadata": {},
     "output_type": "execute_result"
    }
   ],
   "source": [
    "df.head()"
   ]
  },
  {
   "cell_type": "code",
   "execution_count": 453,
   "metadata": {},
   "outputs": [],
   "source": [
    "df_2010 = df"
   ]
  },
  {
   "cell_type": "code",
   "execution_count": 454,
   "metadata": {},
   "outputs": [],
   "source": [
    "df_2010.to_csv('./data/df_2010.csv',index=False)"
   ]
  },
  {
   "cell_type": "code",
   "execution_count": 16,
   "metadata": {},
   "outputs": [],
   "source": [
    "df_as = pd.read_excel('./data/NBA All Star Games.xlsx').dropna()"
   ]
  },
  {
   "cell_type": "code",
   "execution_count": 17,
   "metadata": {},
   "outputs": [
    {
     "data": {
      "text/html": [
       "<div>\n",
       "<style scoped>\n",
       "    .dataframe tbody tr th:only-of-type {\n",
       "        vertical-align: middle;\n",
       "    }\n",
       "\n",
       "    .dataframe tbody tr th {\n",
       "        vertical-align: top;\n",
       "    }\n",
       "\n",
       "    .dataframe thead th {\n",
       "        text-align: right;\n",
       "    }\n",
       "</style>\n",
       "<table border=\"1\" class=\"dataframe\">\n",
       "  <thead>\n",
       "    <tr style=\"text-align: right;\">\n",
       "      <th></th>\n",
       "      <th>Player</th>\n",
       "      <th>Player_name</th>\n",
       "      <th>_</th>\n",
       "      <th>Year</th>\n",
       "      <th>All-Star</th>\n",
       "      <th>Unnamed: 5</th>\n",
       "    </tr>\n",
       "  </thead>\n",
       "  <tbody>\n",
       "    <tr>\n",
       "      <th>0</th>\n",
       "      <td>Anthony Davis_2019</td>\n",
       "      <td>Anthony Davis</td>\n",
       "      <td>_</td>\n",
       "      <td>2019.0</td>\n",
       "      <td>1.0</td>\n",
       "      <td>2011.0</td>\n",
       "    </tr>\n",
       "    <tr>\n",
       "      <th>1</th>\n",
       "      <td>Ben Simmons_2019</td>\n",
       "      <td>Ben Simmons</td>\n",
       "      <td>_</td>\n",
       "      <td>2019.0</td>\n",
       "      <td>1.0</td>\n",
       "      <td>2011.0</td>\n",
       "    </tr>\n",
       "    <tr>\n",
       "      <th>2</th>\n",
       "      <td>Blake Griffin_2019</td>\n",
       "      <td>Blake Griffin</td>\n",
       "      <td>_</td>\n",
       "      <td>2019.0</td>\n",
       "      <td>1.0</td>\n",
       "      <td>2011.0</td>\n",
       "    </tr>\n",
       "    <tr>\n",
       "      <th>3</th>\n",
       "      <td>Bradley Beal_2019</td>\n",
       "      <td>Bradley Beal</td>\n",
       "      <td>_</td>\n",
       "      <td>2019.0</td>\n",
       "      <td>1.0</td>\n",
       "      <td>2011.0</td>\n",
       "    </tr>\n",
       "    <tr>\n",
       "      <th>4</th>\n",
       "      <td>D'Angelo Russell_2019</td>\n",
       "      <td>D'Angelo Russell</td>\n",
       "      <td>_</td>\n",
       "      <td>2019.0</td>\n",
       "      <td>1.0</td>\n",
       "      <td>2011.0</td>\n",
       "    </tr>\n",
       "  </tbody>\n",
       "</table>\n",
       "</div>"
      ],
      "text/plain": [
       "                  Player       Player_name  _    Year  All-Star  Unnamed: 5\n",
       "0     Anthony Davis_2019     Anthony Davis  _  2019.0       1.0      2011.0\n",
       "1       Ben Simmons_2019       Ben Simmons  _  2019.0       1.0      2011.0\n",
       "2     Blake Griffin_2019     Blake Griffin  _  2019.0       1.0      2011.0\n",
       "3      Bradley Beal_2019      Bradley Beal  _  2019.0       1.0      2011.0\n",
       "4  D'Angelo Russell_2019  D'Angelo Russell  _  2019.0       1.0      2011.0"
      ]
     },
     "execution_count": 17,
     "metadata": {},
     "output_type": "execute_result"
    }
   ],
   "source": [
    "df_as.head()"
   ]
  },
  {
   "cell_type": "code",
   "execution_count": 18,
   "metadata": {},
   "outputs": [],
   "source": [
    "df_as = df_as.drop(['Player_name','_','Year','Unnamed: 5'],axis = 1)"
   ]
  },
  {
   "cell_type": "code",
   "execution_count": 19,
   "metadata": {},
   "outputs": [
    {
     "data": {
      "text/plain": [
       "(489, 2)"
      ]
     },
     "execution_count": 19,
     "metadata": {},
     "output_type": "execute_result"
    }
   ],
   "source": [
    "df_as.shape"
   ]
  },
  {
   "cell_type": "code",
   "execution_count": 20,
   "metadata": {},
   "outputs": [],
   "source": [
    "df_as.to_csv('./data/df_as.csv',index=False)"
   ]
  },
  {
   "cell_type": "code",
   "execution_count": null,
   "metadata": {},
   "outputs": [],
   "source": []
  }
 ],
 "metadata": {
  "kernelspec": {
   "display_name": "Python 3",
   "language": "python",
   "name": "python3"
  },
  "language_info": {
   "codemirror_mode": {
    "name": "ipython",
    "version": 3
   },
   "file_extension": ".py",
   "mimetype": "text/x-python",
   "name": "python",
   "nbconvert_exporter": "python",
   "pygments_lexer": "ipython3",
   "version": "3.7.6"
  }
 },
 "nbformat": 4,
 "nbformat_minor": 4
}
